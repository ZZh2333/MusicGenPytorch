{
 "cells": [
  {
   "cell_type": "code",
   "execution_count": 1,
   "metadata": {},
   "outputs": [],
   "source": [
    "import pretty_midi\n",
    "import torch\n",
    "import os"
   ]
  },
  {
   "cell_type": "code",
   "execution_count": 2,
   "metadata": {},
   "outputs": [],
   "source": [
    "def melody_to_numpy(fpath=\"ashover12.mid\", unit_time=0.125):\n",
    "    # 首先取出midi中的音乐信息，将第一个音轨提出来，然后取所有音符元素。\n",
    "    music = pretty_midi.PrettyMIDI(fpath)\n",
    "    notes = music.instruments[0].notes\n",
    "\n",
    "    # 纪录一个时间戳 t和保存向量的列表 roll。\n",
    "    t = 0.\n",
    "    roll = list()\n",
    "    # print(notes[0], notes[-1])\n",
    "\n",
    "    # 在 Notes里遍历，找出所有音符的音高和长度，同时不放过休止符。\n",
    "    for note in notes:\n",
    "        # print(t, note)\n",
    "\n",
    "        # 两个相邻的音符不是无缝连接，说明休止符存在。计算其相对于最小分辨率 unit_time的相对时长 T，建立一个(T, 130)的矩阵，将第129维置1.\n",
    "        elapsed_time = note.start - t\n",
    "        if elapsed_time > 0.:\n",
    "            steps = torch.zeros((int(round(elapsed_time / unit_time)), 130))\n",
    "            steps[range(int(round(elapsed_time / unit_time))), 129] += 1.\n",
    "            roll.append(steps)\n",
    "\n",
    "        # 如果是无缝连接，那么检查当前音符：\n",
    "        n_units = int(round((note.end - note.start) / unit_time))\n",
    "        steps = torch.zeros((n_units, 130))\n",
    "        steps[0, note.pitch] += 1\n",
    "        steps[range(1, n_units), 128] += 1\n",
    "\n",
    "        # 其中除第一列记录pitch外，其他列都记录sustain的128.最后合成为一个矩阵：\n",
    "        roll.append(steps)\n",
    "        t = note.end\n",
    "    return torch.cat(roll, 0)"
   ]
  },
  {
   "cell_type": "code",
   "execution_count": 3,
   "metadata": {},
   "outputs": [],
   "source": [
    "def array_to_single(array):\n",
    "    midi_batch = []\n",
    "    for i in array:\n",
    "        num = 0\n",
    "        for j in i:\n",
    "            if j == 1:\n",
    "                midi_batch.append(num)\n",
    "                num = 0\n",
    "                break\n",
    "            num += 1\n",
    "    return midi_batch"
   ]
  },
  {
   "cell_type": "code",
   "execution_count": 4,
   "metadata": {},
   "outputs": [
    {
     "ename": "IndexError",
     "evalue": "index 0 is out of bounds for dimension 0 with size 0",
     "output_type": "error",
     "traceback": [
      "\u001b[1;31m---------------------------------------------------------------------------\u001b[0m",
      "\u001b[1;31mIndexError\u001b[0m                                Traceback (most recent call last)",
      "\u001b[1;32m<ipython-input-4-a9063c8b972a>\u001b[0m in \u001b[0;36m<module>\u001b[1;34m\u001b[0m\n\u001b[0;32m      1\u001b[0m \u001b[1;32mif\u001b[0m \u001b[0m__name__\u001b[0m \u001b[1;33m==\u001b[0m \u001b[1;34m\"__main__\"\u001b[0m\u001b[1;33m:\u001b[0m\u001b[1;33m\u001b[0m\u001b[1;33m\u001b[0m\u001b[0m\n\u001b[0;32m      2\u001b[0m     \u001b[0mmusicPath\u001b[0m \u001b[1;33m=\u001b[0m \u001b[1;34m\"./MLPDataset/output_MLPdata/1.mid\"\u001b[0m\u001b[1;33m\u001b[0m\u001b[1;33m\u001b[0m\u001b[0m\n\u001b[1;32m----> 3\u001b[1;33m     \u001b[0mmidiarray\u001b[0m \u001b[1;33m=\u001b[0m \u001b[0mmelody_to_numpy\u001b[0m\u001b[1;33m(\u001b[0m\u001b[0mmusicPath\u001b[0m\u001b[1;33m)\u001b[0m\u001b[1;33m\u001b[0m\u001b[1;33m\u001b[0m\u001b[0m\n\u001b[0m\u001b[0;32m      4\u001b[0m     \u001b[0mprint\u001b[0m\u001b[1;33m(\u001b[0m\u001b[0mmidiarray\u001b[0m\u001b[1;33m)\u001b[0m\u001b[1;33m\u001b[0m\u001b[1;33m\u001b[0m\u001b[0m\n\u001b[0;32m      5\u001b[0m     \u001b[1;31m# midi_batch = array_to_single(midiarray)\u001b[0m\u001b[1;33m\u001b[0m\u001b[1;33m\u001b[0m\u001b[1;33m\u001b[0m\u001b[0m\n",
      "\u001b[1;32m<ipython-input-2-af5ace0b764e>\u001b[0m in \u001b[0;36mmelody_to_numpy\u001b[1;34m(fpath, unit_time)\u001b[0m\n\u001b[0;32m     23\u001b[0m         \u001b[0mn_units\u001b[0m \u001b[1;33m=\u001b[0m \u001b[0mint\u001b[0m\u001b[1;33m(\u001b[0m\u001b[0mround\u001b[0m\u001b[1;33m(\u001b[0m\u001b[1;33m(\u001b[0m\u001b[0mnote\u001b[0m\u001b[1;33m.\u001b[0m\u001b[0mend\u001b[0m \u001b[1;33m-\u001b[0m \u001b[0mnote\u001b[0m\u001b[1;33m.\u001b[0m\u001b[0mstart\u001b[0m\u001b[1;33m)\u001b[0m \u001b[1;33m/\u001b[0m \u001b[0munit_time\u001b[0m\u001b[1;33m)\u001b[0m\u001b[1;33m)\u001b[0m\u001b[1;33m\u001b[0m\u001b[1;33m\u001b[0m\u001b[0m\n\u001b[0;32m     24\u001b[0m         \u001b[0msteps\u001b[0m \u001b[1;33m=\u001b[0m \u001b[0mtorch\u001b[0m\u001b[1;33m.\u001b[0m\u001b[0mzeros\u001b[0m\u001b[1;33m(\u001b[0m\u001b[1;33m(\u001b[0m\u001b[0mn_units\u001b[0m\u001b[1;33m,\u001b[0m \u001b[1;36m130\u001b[0m\u001b[1;33m)\u001b[0m\u001b[1;33m)\u001b[0m\u001b[1;33m\u001b[0m\u001b[1;33m\u001b[0m\u001b[0m\n\u001b[1;32m---> 25\u001b[1;33m         \u001b[0msteps\u001b[0m\u001b[1;33m[\u001b[0m\u001b[1;36m0\u001b[0m\u001b[1;33m,\u001b[0m \u001b[0mnote\u001b[0m\u001b[1;33m.\u001b[0m\u001b[0mpitch\u001b[0m\u001b[1;33m]\u001b[0m \u001b[1;33m+=\u001b[0m \u001b[1;36m1\u001b[0m\u001b[1;33m\u001b[0m\u001b[1;33m\u001b[0m\u001b[0m\n\u001b[0m\u001b[0;32m     26\u001b[0m         \u001b[0msteps\u001b[0m\u001b[1;33m[\u001b[0m\u001b[0mrange\u001b[0m\u001b[1;33m(\u001b[0m\u001b[1;36m1\u001b[0m\u001b[1;33m,\u001b[0m \u001b[0mn_units\u001b[0m\u001b[1;33m)\u001b[0m\u001b[1;33m,\u001b[0m \u001b[1;36m128\u001b[0m\u001b[1;33m]\u001b[0m \u001b[1;33m+=\u001b[0m \u001b[1;36m1\u001b[0m\u001b[1;33m\u001b[0m\u001b[1;33m\u001b[0m\u001b[0m\n\u001b[0;32m     27\u001b[0m \u001b[1;33m\u001b[0m\u001b[0m\n",
      "\u001b[1;31mIndexError\u001b[0m: index 0 is out of bounds for dimension 0 with size 0"
     ]
    }
   ],
   "source": [
    "if __name__ == \"__main__\":\n",
    "    musicPath = \"./MLPDataset/output_MLPdata/1.mid\"\n",
    "    midiarray = melody_to_numpy(musicPath)\n",
    "    print(midiarray)\n",
    "    # midi_batch = array_to_single(midiarray)\n",
    "    # print(midi_batch)\n",
    "\n"
   ]
  }
 ],
 "metadata": {
  "interpreter": {
   "hash": "e23994e846f66e74e737ab5cf4d4d5879b586e9c98f1a622dbc49488eef84217"
  },
  "kernelspec": {
   "display_name": "Python 3.6.13 64-bit ('MusicGenPytorch': conda)",
   "language": "python",
   "name": "python3"
  },
  "language_info": {
   "codemirror_mode": {
    "name": "ipython",
    "version": 3
   },
   "file_extension": ".py",
   "mimetype": "text/x-python",
   "name": "python",
   "nbconvert_exporter": "python",
   "pygments_lexer": "ipython3",
   "version": "3.6.13"
  },
  "orig_nbformat": 4
 },
 "nbformat": 4,
 "nbformat_minor": 2
}
