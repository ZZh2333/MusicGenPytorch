{
 "cells": [
  {
   "cell_type": "code",
   "execution_count": 68,
   "metadata": {},
   "outputs": [],
   "source": [
    "import pretty_midi\n",
    "import numpy as np"
   ]
  },
  {
   "cell_type": "code",
   "execution_count": 69,
   "metadata": {},
   "outputs": [],
   "source": [
    "def build_single_tensor_from_sparse(nonzeros):\n",
    "    result = np.zeros((2,4,120,84,5))\n",
    "    result[[data for data in nonzeros]] = True\n",
    "    return result"
   ]
  },
  {
   "cell_type": "code",
   "execution_count": 70,
   "metadata": {},
   "outputs": [],
   "source": [
    "def build_midi_from_tensor(src_path,save_path,time_step = 120,bar_length = 4,valid_range = (24,108)):\n",
    "    data = build_single_tensor_from_sparse(src_path)"
   ]
  },
  {
   "cell_type": "code",
   "execution_count": 71,
   "metadata": {},
   "outputs": [
    {
     "ename": "IndexError",
     "evalue": "index 81 is out of bounds for axis 0 with size 2",
     "output_type": "error",
     "traceback": [
      "\u001b[1;31m---------------------------------------------------------------------------\u001b[0m",
      "\u001b[1;31mIndexError\u001b[0m                                Traceback (most recent call last)",
      "\u001b[1;32m<ipython-input-71-22e0a13ecc1a>\u001b[0m in \u001b[0;36m<module>\u001b[1;34m\u001b[0m\n\u001b[0;32m     31\u001b[0m     \u001b[1;31m# print(nonzeros)\u001b[0m\u001b[1;33m\u001b[0m\u001b[1;33m\u001b[0m\u001b[1;33m\u001b[0m\u001b[0m\n\u001b[0;32m     32\u001b[0m \u001b[1;33m\u001b[0m\u001b[0m\n\u001b[1;32m---> 33\u001b[1;33m     \u001b[0mtensor\u001b[0m \u001b[1;33m=\u001b[0m \u001b[0mbuild_single_tensor_from_sparse\u001b[0m\u001b[1;33m(\u001b[0m\u001b[0mnonzeros\u001b[0m\u001b[1;33m)\u001b[0m\u001b[1;33m\u001b[0m\u001b[1;33m\u001b[0m\u001b[0m\n\u001b[0m\u001b[0;32m     34\u001b[0m     \u001b[0mprint\u001b[0m\u001b[1;33m(\u001b[0m\u001b[0mtensor\u001b[0m\u001b[1;33m)\u001b[0m\u001b[1;33m\u001b[0m\u001b[1;33m\u001b[0m\u001b[0m\n",
      "\u001b[1;32m<ipython-input-69-c8a3928df6f0>\u001b[0m in \u001b[0;36mbuild_single_tensor_from_sparse\u001b[1;34m(nonzeros)\u001b[0m\n\u001b[0;32m      1\u001b[0m \u001b[1;32mdef\u001b[0m \u001b[0mbuild_single_tensor_from_sparse\u001b[0m\u001b[1;33m(\u001b[0m\u001b[0mnonzeros\u001b[0m\u001b[1;33m)\u001b[0m\u001b[1;33m:\u001b[0m\u001b[1;33m\u001b[0m\u001b[1;33m\u001b[0m\u001b[0m\n\u001b[0;32m      2\u001b[0m     \u001b[0mresult\u001b[0m \u001b[1;33m=\u001b[0m \u001b[0mnp\u001b[0m\u001b[1;33m.\u001b[0m\u001b[0mzeros\u001b[0m\u001b[1;33m(\u001b[0m\u001b[1;33m(\u001b[0m\u001b[1;36m2\u001b[0m\u001b[1;33m,\u001b[0m\u001b[1;36m4\u001b[0m\u001b[1;33m,\u001b[0m\u001b[1;36m120\u001b[0m\u001b[1;33m,\u001b[0m\u001b[1;36m84\u001b[0m\u001b[1;33m,\u001b[0m\u001b[1;36m5\u001b[0m\u001b[1;33m)\u001b[0m\u001b[1;33m)\u001b[0m\u001b[1;33m\u001b[0m\u001b[1;33m\u001b[0m\u001b[0m\n\u001b[1;32m----> 3\u001b[1;33m     \u001b[0mresult\u001b[0m\u001b[1;33m[\u001b[0m\u001b[1;33m[\u001b[0m\u001b[0mdata\u001b[0m \u001b[1;32mfor\u001b[0m \u001b[0mdata\u001b[0m \u001b[1;32min\u001b[0m \u001b[0mnonzeros\u001b[0m\u001b[1;33m]\u001b[0m\u001b[1;33m]\u001b[0m \u001b[1;33m=\u001b[0m \u001b[1;32mTrue\u001b[0m\u001b[1;33m\u001b[0m\u001b[1;33m\u001b[0m\u001b[0m\n\u001b[0m\u001b[0;32m      4\u001b[0m     \u001b[1;32mreturn\u001b[0m \u001b[0mresult\u001b[0m\u001b[1;33m\u001b[0m\u001b[1;33m\u001b[0m\u001b[0m\n",
      "\u001b[1;31mIndexError\u001b[0m: index 81 is out of bounds for axis 0 with size 2"
     ]
    }
   ],
   "source": [
    "if __name__ == \"__main__\":\n",
    "# def generate_nonzeros_by_notes():\n",
    "    test_midi = 'E:/Anaconda/project/envs/MusicGenPytorch/motif2Music/output_motif.mid'\n",
    "    pm = pretty_midi.PrettyMIDI(test_midi)\n",
    "    note_range = (24,108)\n",
    "    nonzeros = []\n",
    "    sixteenth_length = 60 / 120 / 4\n",
    "\n",
    "    pitch_cord = []\n",
    "    \n",
    "    for instr in pm.instruments:\n",
    "        if not instr.is_drum:\n",
    "            for note in instr.notes:\n",
    "                # print(note)\n",
    "                start = int(note.start / sixteenth_length)\n",
    "                end = int(note.end / sixteenth_length)\n",
    "                pitch = note.pitch \n",
    "                pitch_cord.append(pitch)\n",
    "                # print(pitch)\n",
    "                if pitch < note_range[0] or pitch >= note_range[1]:\n",
    "                    continue\n",
    "                else:\n",
    "                    # pitch -= 24\n",
    "                    for time_raw in range(start,end):\n",
    "                        segment = int(time_raw/64)\n",
    "                        time = time_raw % 64\n",
    "                        nonzeros.append([segment,time,pitch])\n",
    "    # print(nonzeros)\n",
    "    # print(pitch_cord)\n",
    "    nonzeros = np.array(nonzeros)\n",
    "    # print(nonzeros)\n",
    "\n",
    "    tensor = build_single_tensor_from_sparse(nonzeros)\n",
    "    print(tensor)"
   ]
  }
 ],
 "metadata": {
  "interpreter": {
   "hash": "e23994e846f66e74e737ab5cf4d4d5879b586e9c98f1a622dbc49488eef84217"
  },
  "kernelspec": {
   "display_name": "Python 3.6.13 64-bit ('MusicGenPytorch': conda)",
   "language": "python",
   "name": "python3"
  },
  "language_info": {
   "codemirror_mode": {
    "name": "ipython",
    "version": 3
   },
   "file_extension": ".py",
   "mimetype": "text/x-python",
   "name": "python",
   "nbconvert_exporter": "python",
   "pygments_lexer": "ipython3",
   "version": "3.6.13"
  },
  "orig_nbformat": 4
 },
 "nbformat": 4,
 "nbformat_minor": 2
}
