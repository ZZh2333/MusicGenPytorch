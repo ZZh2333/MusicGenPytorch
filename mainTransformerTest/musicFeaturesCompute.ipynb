{
 "cells": [
  {
   "cell_type": "code",
   "execution_count": null,
   "metadata": {},
   "outputs": [],
   "source": [
    "def computeHighLow(list):\n",
    "    min = list[0]\n",
    "    max = list[0]\n",
    "    for i in list:\n",
    "        if(i>max):\n",
    "            max = i\n",
    "        if(i<min):\n",
    "            min = i\n",
    "    return max-min"
   ]
  },
  {
   "cell_type": "code",
   "execution_count": null,
   "metadata": {},
   "outputs": [],
   "source": [
    "def computeFrequence(list):\n",
    "    cnt = 0\n",
    "    for i,m in enumerate(list):\n",
    "        if(i!=0 and m!=list[i-1]):\n",
    "            cnt += 1\n",
    "    return cnt"
   ]
  },
  {
   "cell_type": "code",
   "execution_count": null,
   "metadata": {},
   "outputs": [],
   "source": [
    "def computeMidMidi(list):\n",
    "    sum = 0\n",
    "    for i in list:\n",
    "        sum += i\n",
    "    return sum/len(list)"
   ]
  }
 ],
 "metadata": {
  "language_info": {
   "name": "python"
  },
  "orig_nbformat": 4
 },
 "nbformat": 4,
 "nbformat_minor": 2
}
