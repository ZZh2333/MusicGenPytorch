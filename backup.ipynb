{
 "cells": [
  {
   "cell_type": "code",
   "execution_count": null,
   "metadata": {},
   "outputs": [],
   "source": [
    "# def _note_preprocess(susteins,notes):\n",
    "#     note_stream = []\n",
    "\n",
    "#     # 如果midi文件有延音控制\n",
    "#     if susteins:\n",
    "#         for sustain in susteins:\n",
    "#             for note_idx,note in enumerate(notes):\n",
    "#                 if note.start < sustain.start:\n",
    "#                     note_stream.append(note)\n",
    "#                 elif note.start > sustain.end:\n",
    "#                     notes = notes[note_idx:]\n",
    "#                     sustain.transposition_notes()\n",
    "#                     break;\n",
    "#                 else:\n",
    "#                     sustain.add_managed_notes(note)\n",
    "#         for sustain in susteins:\n",
    "#             note_stream += sustain.managed_notes\n",
    "\n",
    "#     else:\n",
    "#         for note_idx,note in enumerate(notes):\n",
    "#             note_stream.append(note)\n",
    "    \n",
    "#     note_stream.sort(key=lambda x:x.start)\n",
    "#     return note_stream\n"
   ]
  }
 ],
 "metadata": {
  "language_info": {
   "name": "python"
  },
  "orig_nbformat": 4
 },
 "nbformat": 4,
 "nbformat_minor": 2
}
