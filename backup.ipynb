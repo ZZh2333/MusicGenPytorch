{
 "cells": [
  {
   "cell_type": "code",
   "execution_count": null,
   "metadata": {},
   "outputs": [],
   "source": [
    "# def _note_preprocess(susteins,notes):\n",
    "#     note_stream = []\n",
    "\n",
    "#     # 如果midi文件有延音控制\n",
    "#     if susteins:\n",
    "#         for sustain in susteins:\n",
    "#             for note_idx,note in enumerate(notes):\n",
    "#                 if note.start < sustain.start:\n",
    "#                     note_stream.append(note)\n",
    "#                 elif note.start > sustain.end:\n",
    "#                     notes = notes[note_idx:]\n",
    "#                     sustain.transposition_notes()\n",
    "#                     break;\n",
    "#                 else:\n",
    "#                     sustain.add_managed_notes(note)\n",
    "#         for sustain in susteins:\n",
    "#             note_stream += sustain.managed_notes\n",
    "\n",
    "#     else:\n",
    "#         for note_idx,note in enumerate(notes):\n",
    "#             note_stream.append(note)\n",
    "    \n",
    "#     note_stream.sort(key=lambda x:x.start)\n",
    "#     return note_stream\n"
   ]
  },
  {
   "cell_type": "code",
   "execution_count": null,
   "metadata": {},
   "outputs": [],
   "source": [
    "# # 空间频率\n",
    "# sf = []\n",
    "# # 色度\n",
    "# Hue = []\n",
    "# # 饱和度\n",
    "# Saturation = []\n",
    "# # 亮度\n",
    "# Value = []\n",
    "# filepath = './picTest/'\n",
    "# pathDir = os.listdir(filepath)\n",
    "# for allDir in pathDir:\n",
    "#     videopath = r'./picTest/'+allDir\n",
    "#     image = cv2.imread(videopath)\n",
    "#     hsv = cv2.cvtColor(image,cv2.COLOR_RGB2HSV)\n",
    "#     H,S,V = cv2.split(hsv)\n",
    "#     # 取亮度非0的值\n",
    "#     v = V.ravel()[np.flatnonzero(V)]\n",
    "#     # 计算平均亮度\n",
    "#     average_v = sum(v)/len(v)\n",
    "#     Value.append(average_v)\n",
    "#     # 取饱和度非0的值\n",
    "#     s = S.rave()[np.flatnonzero(V)]\n",
    "#     # 计算平均饱和度\n",
    "#     average_s = sum(s)/len(s)\n",
    "#     Saturation.append(average_s)\n",
    "#     # 取色度非0的值\n",
    "#     h = H.ravel()[np.flatnonzero(H)]\n",
    "#     average_h = sum(h)/len(h)\n",
    "#     Hue.append(average_h)\n"
   ]
  }
 ],
 "metadata": {
  "language_info": {
   "name": "python"
  },
  "orig_nbformat": 4
 },
 "nbformat": 4,
 "nbformat_minor": 2
}
