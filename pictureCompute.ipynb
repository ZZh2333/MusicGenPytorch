{
 "cells": [
  {
   "cell_type": "markdown",
   "metadata": {},
   "source": [
    "# 图像特征计算"
   ]
  },
  {
   "cell_type": "markdown",
   "metadata": {},
   "source": [
    "## 一、色彩丰富度\n",
    "色彩丰富度标准：Hasler and Süsstrunk 的研究将颜色丰富度划分为七级：\n",
    "> 1.无      (Not colorful)  \n",
    "> 2.稍微    (Slight colorful)  \n",
    "> 3.适度    (Moderately colorful)  \n",
    "> 4.平均    (Averagely colorful)  \n",
    "> 5.非常    (Quite colorful)  \n",
    "> 6.高度    (Highly colorful)  \n",
    "> 7.极端    (Extremely colorful)  "
   ]
  },
  {
   "cell_type": "code",
   "execution_count": 420,
   "metadata": {},
   "outputs": [],
   "source": [
    "import cv2\n",
    "import numpy as np"
   ]
  },
  {
   "cell_type": "code",
   "execution_count": 421,
   "metadata": {},
   "outputs": [],
   "source": [
    "def image_colorfulness(image):\n",
    "    # 将图片划分为R，G，B三色通道（这里得到的R，G，B喂向量而非标量）\n",
    "    (B,G,R) = cv2.split(image.astype(\"float\"))\n",
    "\n",
    "    # rg = R - G\n",
    "    rg = np.absolute(R - G)\n",
    "\n",
    "    # yb = 0.5 * (R + G) - B\n",
    "    yb = np.absolute(0.5 * (R + G) - B)\n",
    "\n",
    "    # 计算rg和yb的平均值和标准差\n",
    "    (rbMean, rbStd) = (np.mean(rg), np.std(rg))\n",
    "    (ybMean, ybStd) = (np.mean(yb), np.std(yb))\n",
    "\n",
    "    # 计算rgyb的标准差和平均值\n",
    "    stdRoot = np.sqrt((rbStd ** 2) + (ybStd ** 2))\n",
    "    meanRoot = np.sqrt((rbMean ** 2) + (ybMean ** 2))\n",
    "\n",
    "    # 返回颜色丰富度C（范围 0-100）\n",
    "    return stdRoot + (0.3 * meanRoot)"
   ]
  },
  {
   "cell_type": "markdown",
   "metadata": {},
   "source": [
    "**原图**  \n",
    "![Origin](./picTest/Origin.jpg)"
   ]
  },
  {
   "cell_type": "markdown",
   "metadata": {},
   "source": [
    "**原图，黑白50，黑白99**  \n",
    "![Black](./picTest/Black1.jpg)"
   ]
  },
  {
   "cell_type": "code",
   "execution_count": 422,
   "metadata": {},
   "outputs": [
    {
     "name": "stdout",
     "output_type": "stream",
     "text": [
      "28.673850693563416\n"
     ]
    }
   ],
   "source": [
    "image = cv2.imread('./picTest/Origin.jpg')\n",
    "print(image_colorfulness(image))"
   ]
  },
  {
   "cell_type": "markdown",
   "metadata": {},
   "source": [
    "<!-- **黑白50**\n",
    "![Black50](./picTest/Black50.jpg) -->"
   ]
  },
  {
   "cell_type": "code",
   "execution_count": 423,
   "metadata": {},
   "outputs": [
    {
     "name": "stdout",
     "output_type": "stream",
     "text": [
      "14.404272186323636\n"
     ]
    }
   ],
   "source": [
    "imageBlack50 = cv2.imread('picTest/Black50.jpg')\n",
    "print(image_colorfulness(imageBlack50))"
   ]
  },
  {
   "cell_type": "markdown",
   "metadata": {},
   "source": [
    "<!-- **黑白99**\n",
    "![Black99](./picTest/Black99.jpg) -->"
   ]
  },
  {
   "cell_type": "code",
   "execution_count": 424,
   "metadata": {},
   "outputs": [
    {
     "name": "stdout",
     "output_type": "stream",
     "text": [
      "0.2821375870571007\n"
     ]
    }
   ],
   "source": [
    "imageBlack99 = cv2.imread('picTest/Black99.jpg')\n",
    "print(image_colorfulness(imageBlack99))"
   ]
  },
  {
   "cell_type": "markdown",
   "metadata": {},
   "source": [
    "## 二、图像对比度"
   ]
  },
  {
   "cell_type": "markdown",
   "metadata": {},
   "source": [
    "### 2.1定义\n",
    "对比度：通俗地讲就是亮暗的拉伸对比程度，通常表现了图像画质的清晰程度，对比度的计算公式为：  \n",
    "![20220421160459](https://raw.githubusercontent.com/ZZh2333/picgoResource/main/img/20220421160459.png)  \n",
    "**计算方法**：  \n",
    "按照四近邻计算，如第一个小括号：以第一行第一列为中心，上下左右分别与这个中心值相减再平方，然后加在一起，即：(2-1)^2+(3-1)^2；第二个括号即：(1-3)^2+(9-3)^2+(1-3)^2。最后除以的48为总的平方次个数。  \n",
    "![20220421163003](https://raw.githubusercontent.com/ZZh2333/picgoResource/main/img/20220421163003.png)"
   ]
  },
  {
   "cell_type": "code",
   "execution_count": 425,
   "metadata": {},
   "outputs": [],
   "source": [
    "from cv2 import cv2\n",
    "import numpy as np"
   ]
  },
  {
   "cell_type": "code",
   "execution_count": 426,
   "metadata": {},
   "outputs": [],
   "source": [
    "def contrast(img0):\n",
    "    # 将图片转化为灰度图片\n",
    "    img1 = cv2.cvtColor(img0,cv2.COLOR_BGR2GRAY)\n",
    "    m,n = img1.shape\n",
    "    # 图片矩阵向外扩散一个像素方便计算,除以1.0的目的是转化为float类型，便于后续计算\n",
    "    img1_ext = cv2.copyMakeBorder(img1,1,1,1,1,cv2.BORDER_REPLICATE) / 1.0\n",
    "    rows_ext,cols_ext = img1_ext.shape\n",
    "    b = 0.0\n",
    "    for i in range(1,rows_ext-1):\n",
    "        for j in range(1,cols_ext-1):\n",
    "            b += ((img1_ext[i,j]-img1_ext[i,j+1])**2 + (img1_ext[i,j]-img1_ext[i,j-1])**2 + (img1_ext[i,j]-img1_ext[i+1,j])**2 + (img1_ext[i,j]-img1_ext[i-1,j])**2)\n",
    "    \n",
    "    cg = b/(4*(m-2)*(n-2)+3*(2*(m-2)+2*(n-2))+2*4)\n",
    "    return cg"
   ]
  },
  {
   "cell_type": "code",
   "execution_count": 427,
   "metadata": {},
   "outputs": [
    {
     "data": {
      "text/plain": [
       "251.24037533553346"
      ]
     },
     "execution_count": 427,
     "metadata": {},
     "output_type": "execute_result"
    }
   ],
   "source": [
    "cg = contrast(image)\n",
    "cg"
   ]
  },
  {
   "cell_type": "markdown",
   "metadata": {},
   "source": [
    "**对比度50，100，-50，-100**  \n",
    "![Compare](./picTest/Compare.jpg)"
   ]
  },
  {
   "cell_type": "code",
   "execution_count": 428,
   "metadata": {},
   "outputs": [
    {
     "data": {
      "text/plain": [
       "337.0040768985861"
      ]
     },
     "execution_count": 428,
     "metadata": {},
     "output_type": "execute_result"
    }
   ],
   "source": [
    "imageCompare50 = cv2.imread('picTest/Compare50.jpg')\n",
    "cgCompare50 = contrast(imageCompare50)\n",
    "cgCompare50"
   ]
  },
  {
   "cell_type": "code",
   "execution_count": 429,
   "metadata": {},
   "outputs": [
    {
     "data": {
      "text/plain": [
       "430.84536589055233"
      ]
     },
     "execution_count": 429,
     "metadata": {},
     "output_type": "execute_result"
    }
   ],
   "source": [
    "imageCompare100 = cv2.imread('picTest/Compare100.jpg')\n",
    "cgCompare100 = contrast(imageCompare100)\n",
    "cgCompare100"
   ]
  },
  {
   "cell_type": "code",
   "execution_count": 430,
   "metadata": {},
   "outputs": [
    {
     "data": {
      "text/plain": [
       "197.5235889026114"
      ]
     },
     "execution_count": 430,
     "metadata": {},
     "output_type": "execute_result"
    }
   ],
   "source": [
    "imageComparef50 = cv2.imread('picTest/Compare-50.jpg')\n",
    "cgComparef50 = contrast(imageComparef50)\n",
    "cgComparef50"
   ]
  },
  {
   "cell_type": "code",
   "execution_count": 431,
   "metadata": {},
   "outputs": [
    {
     "data": {
      "text/plain": [
       "154.68938670347742"
      ]
     },
     "execution_count": 431,
     "metadata": {},
     "output_type": "execute_result"
    }
   ],
   "source": [
    "imageComparef100 = cv2.imread('picTest/Compare-100.jpg')\n",
    "cgComparef100 = contrast(imageComparef100)\n",
    "cgComparef100"
   ]
  },
  {
   "cell_type": "markdown",
   "metadata": {},
   "source": [
    "## 三、色度（色调），饱和度与亮度"
   ]
  },
  {
   "cell_type": "markdown",
   "metadata": {},
   "source": [
    "**HSV颜色模型**  \n",
    "![20220421231709](https://raw.githubusercontent.com/ZZh2333/picgoResource/main/img/20220421231709.png)"
   ]
  },
  {
   "cell_type": "markdown",
   "metadata": {},
   "source": [
    "**①色调H（Hue）**  \n",
    "用角度度量，取值范围为0°~360°，从红色开始按逆时针方向计算，红色为0°，绿色为120°，蓝色为240°；他们的补色为黄色60°，情色180°，品红300°，0°- 359°时颜色会依次变换。  \n",
    "![20220422002940](https://raw.githubusercontent.com/ZZh2333/picgoResource/main/img/20220422002940.png)"
   ]
  },
  {
   "cell_type": "markdown",
   "metadata": {},
   "source": [
    "**②饱和度S（Saturation）**  \n",
    "饱和度S表示颜色接近光谱色的程度，一种颜色可以看成是某种光谱色与白色混合的结果。其中光谱色所占的比例愈大，颜色接近光谱色的程度就愈高，颜色的饱和度也就愈高。饱和度高，颜色则深而艳。光谱色的白光成分为0，饱和度达到最高。通常取值范围为0%～100%，值越大，颜色越饱和。  \n",
    "![20220422003154](https://raw.githubusercontent.com/ZZh2333/picgoResource/main/img/20220422003154.png)"
   ]
  },
  {
   "cell_type": "markdown",
   "metadata": {},
   "source": [
    "**③亮度V（Value）**  \n",
    "图像的亮度通俗的理解便是图像的明暗程度，数字图像f(x,y)=i(x,y)r(x,y)，如果灰度值在[0,255]之间，则f值越接近0亮度越低，f值越接近255亮度越高。  \n",
    "![20220422003241](https://raw.githubusercontent.com/ZZh2333/picgoResource/main/img/20220422003241.png)  \n",
    "![20220421230721](https://raw.githubusercontent.com/ZZh2333/picgoResource/main/img/20220421230721.png)  \n",
    "上图中的白色和红色都是右边相对于左边增加了亮度，可以看出图像右边相对于左边亮度有了一个整体的提升，这里只是对亮度做了一个小弧度的提升，接着尝试着将亮度提升的更高，如下图：  \n",
    "![20220421230839](https://raw.githubusercontent.com/ZZh2333/picgoResource/main/img/20220421230839.png)  \n",
    "需要注意的是，在改变亮度的同时也影响了图片的饱和度、对比度。原因是过度增加亮度导致阴影赶上了高光，因为最大灰度值是固定的，所以最低灰度值快赶上了最大灰度值，因此影响了图片的饱和度、对比度。"
   ]
  },
  {
   "cell_type": "code",
   "execution_count": 432,
   "metadata": {},
   "outputs": [],
   "source": [
    "import cv2\n",
    "import os.path\n",
    "import numpy as np\n",
    "import pandas as pd"
   ]
  },
  {
   "cell_type": "code",
   "execution_count": 433,
   "metadata": {},
   "outputs": [
    {
     "name": "stdout",
     "output_type": "stream",
     "text": [
      "色度为：82.42670616804097\n",
      "饱和度为：144.62686349734884\n",
      "亮度为：63.94017816833792\n"
     ]
    }
   ],
   "source": [
    "imageHSV = cv2.imread('picTest/Origin.jpg')\n",
    "hsv = cv2.cvtColor(imageHSV ,cv2.COLOR_RGB2HSV)\n",
    "H,S,V = cv2.split(hsv)\n",
    "# 取色度非0的值\n",
    "h = H.ravel()[np.flatnonzero(H)]\n",
    "# 计算平均色度\n",
    "average_h = sum(h)/len(h)\n",
    "print(\"色度为：\"+str(average_h))\n",
    "# 取亮度非0的值\n",
    "v = V.ravel()[np.flatnonzero(V)]\n",
    "# 计算平均亮度\n",
    "average_v = sum(v)/len(v)\n",
    "print(\"饱和度为：\"+str(average_v))\n",
    "# 取饱和度非0的值\n",
    "s = S.ravel()[np.flatnonzero(S)]\n",
    "# 计算平均饱和度\n",
    "average_s = sum(s)/len(s)\n",
    "print(\"亮度为：\"+str(average_s))"
   ]
  }
 ],
 "metadata": {
  "interpreter": {
   "hash": "e23994e846f66e74e737ab5cf4d4d5879b586e9c98f1a622dbc49488eef84217"
  },
  "kernelspec": {
   "display_name": "Python 3.6.13 64-bit ('MusicGenPytorch': conda)",
   "language": "python",
   "name": "python3"
  },
  "language_info": {
   "codemirror_mode": {
    "name": "ipython",
    "version": 3
   },
   "file_extension": ".py",
   "mimetype": "text/x-python",
   "name": "python",
   "nbconvert_exporter": "python",
   "pygments_lexer": "ipython3",
   "version": "3.6.13"
  },
  "orig_nbformat": 4
 },
 "nbformat": 4,
 "nbformat_minor": 2
}
