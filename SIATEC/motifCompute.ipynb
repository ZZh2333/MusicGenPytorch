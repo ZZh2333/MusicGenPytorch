{
 "cells": [
  {
   "cell_type": "code",
   "execution_count": 279,
   "metadata": {},
   "outputs": [],
   "source": [
    "import numpy as np\n",
    "import pretty_midi\n",
    "import torch\n",
    "from collections import deque,defaultdict\n",
    "from functools import reduce\n",
    "import json"
   ]
  },
  {
   "cell_type": "code",
   "execution_count": 280,
   "metadata": {},
   "outputs": [],
   "source": [
    "def melody_to_numpy(fpath=\"ashover12.mid\", unit_time=0.125):\n",
    "    # 首先取出midi中的音乐信息，将第一个音轨提出来，然后取所有音符元素。\n",
    "    music = pretty_midi.PrettyMIDI(fpath)\n",
    "    notes = music.instruments[0].notes\n",
    "\n",
    "    # 纪录一个时间戳 t和保存向量的列表 roll。\n",
    "    t = 0.\n",
    "    roll = list()\n",
    "    # print(notes[0], notes[-1])\n",
    "\n",
    "    # 在 Notes里遍历，找出所有音符的音高和长度，同时不放过休止符。\n",
    "    for note in notes:\n",
    "        # print(t, note)\n",
    "\n",
    "        # 两个相邻的音符不是无缝连接，说明休止符存在。计算其相对于最小分辨率 unit_time的相对时长 T，建立一个(T, 130)的矩阵，将第129维置1.\n",
    "        elapsed_time = note.start - t\n",
    "        if elapsed_time > 0.:\n",
    "            steps = torch.zeros((int(round(elapsed_time / unit_time)), 130))\n",
    "            steps[range(int(round(elapsed_time / unit_time))), 129] += 1.\n",
    "            roll.append(steps)\n",
    "\n",
    "        # 如果是无缝连接，那么检查当前音符：\n",
    "        n_units = int(round((note.end - note.start) / unit_time))\n",
    "        steps = torch.zeros((n_units, 130))\n",
    "        steps[0, note.pitch] += 1\n",
    "        steps[range(1, n_units), 128] += 1\n",
    "\n",
    "        # 其中除第一列记录pitch外，其他列都记录sustain的128.最后合成为一个矩阵：\n",
    "        roll.append(steps)\n",
    "        t = note.end\n",
    "    return torch.cat(roll, 0)"
   ]
  },
  {
   "cell_type": "code",
   "execution_count": 281,
   "metadata": {},
   "outputs": [],
   "source": [
    "def numpy_to_midi(sample_roll, output='sample.mid'):\n",
    "    music = pretty_midi.PrettyMIDI()\n",
    "    piano_program = pretty_midi.instrument_name_to_program(\n",
    "        'Acoustic Grand Piano')\n",
    "    piano = pretty_midi.Instrument(program=piano_program)\n",
    "    t = 0\n",
    "    for i in sample_roll:\n",
    "        if 'torch' in str(type(i)):\n",
    "            pitch = int(i.max(0)[1])\n",
    "        else:\n",
    "            pitch = int(np.argmax(i))\n",
    "        if pitch < 128:\n",
    "            note = pretty_midi.Note(\n",
    "                velocity=100, pitch=pitch, start=t, end=t + 1 / 8)\n",
    "            t += 1 / 8\n",
    "            piano.notes.append(note)\n",
    "        elif pitch == 128:\n",
    "            if len(piano.notes) > 0:\n",
    "                note = piano.notes.pop()\n",
    "            else:\n",
    "                p = np.random.randint(60, 72)\n",
    "                note = pretty_midi.Note(\n",
    "                    velocity=100, pitch=int(p), start=0, end=t)\n",
    "            note = pretty_midi.Note(\n",
    "                velocity=100,\n",
    "                pitch=note.pitch,\n",
    "                start=note.start,\n",
    "                end=note.end + 1 / 8)\n",
    "            piano.notes.append(note)\n",
    "            t += 1 / 8\n",
    "        elif pitch == 129:\n",
    "            t += 1 / 8\n",
    "    music.instruments.append(piano)\n",
    "    music.write(output)"
   ]
  },
  {
   "cell_type": "code",
   "execution_count": 282,
   "metadata": {},
   "outputs": [],
   "source": [
    "def merge_sorted_arrays(a1,a2):\n",
    "    result = deque()\n",
    "    a1 = deque(a1)\n",
    "    a2 = deque(a2)\n",
    "    while a1 and a2:\n",
    "        if tuple(a1[0][0]) < tuple(a2[0][0]):\n",
    "            result.append(a1.popleft())\n",
    "        elif tuple(a1[0][0]) == tuple(a2[0][0]) and tuple(a1[0][1]) < tuple(a2[0][1]):\n",
    "            result.append(a1.popleft())\n",
    "        else:\n",
    "            result.append(a2.popleft())\n",
    "    result += a1\n",
    "    result += a2\n",
    "    return np.array(result)"
   ]
  },
  {
   "cell_type": "code",
   "execution_count": 283,
   "metadata": {},
   "outputs": [],
   "source": [
    "def group_by_first(input):\n",
    "    result = defaultdict(list)\n",
    "    for k,v in input:\n",
    "        result[str(k)].append(v)\n",
    "    return result"
   ]
  },
  {
   "cell_type": "code",
   "execution_count": 284,
   "metadata": {},
   "outputs": [],
   "source": [
    "def intersect_sorted_arrays(a1,a2):\n",
    "    result = deque()\n",
    "    a1 = deque(a1)\n",
    "    a2 = deque(a2)\n",
    "    while a1 and a2:\n",
    "        if tuple(a1[0]) == tuple(a2[0]):\n",
    "            result.append(a1.popleft())\n",
    "        elif tuple(a1[0]) < tuple(a2[0]):\n",
    "            a1.popleft()\n",
    "        else:\n",
    "            a2.popleft()\n",
    "    return np.array(result)"
   ]
  },
  {
   "cell_type": "code",
   "execution_count": 285,
   "metadata": {},
   "outputs": [],
   "source": [
    "def json_pattern(points,vecs,occs):\n",
    "    return{\n",
    "        'points':[p.tolist() for p in points],\n",
    "        'vectors':[v.tolist() for v in vecs],\n",
    "        'occurrences':np.array(occs).tolist()\n",
    "    }"
   ]
  },
  {
   "cell_type": "code",
   "execution_count": 286,
   "metadata": {},
   "outputs": [],
   "source": [
    "def to_json(points,pats,vecs,occs):\n",
    "    patterns = [json_pattern(p,vecs[i],occs[i]) for i,p in enumerate(pats)]\n",
    "    return {'points':points.tolist,'patterns':patterns}"
   ]
  },
  {
   "cell_type": "code",
   "execution_count": 287,
   "metadata": {},
   "outputs": [
    {
     "name": "stdout",
     "output_type": "stream",
     "text": [
      "table:\n",
      "merge:\n",
      "group:\n",
      "intersect:\n",
      "json:\n"
     ]
    },
    {
     "ename": "TypeError",
     "evalue": "'dict_values' object does not support indexing",
     "output_type": "error",
     "traceback": [
      "\u001b[1;31m---------------------------------------------------------------------------\u001b[0m",
      "\u001b[1;31mTypeError\u001b[0m                                 Traceback (most recent call last)",
      "\u001b[1;32m<ipython-input-287-c4a0d57471c6>\u001b[0m in \u001b[0;36m<module>\u001b[1;34m\u001b[0m\n\u001b[0;32m     45\u001b[0m \u001b[1;33m\u001b[0m\u001b[0m\n\u001b[0;32m     46\u001b[0m     \u001b[1;31m# print(occurrences)\u001b[0m\u001b[1;33m\u001b[0m\u001b[1;33m\u001b[0m\u001b[1;33m\u001b[0m\u001b[0m\n\u001b[1;32m---> 47\u001b[1;33m     \u001b[0moccurrences\u001b[0m \u001b[1;33m=\u001b[0m \u001b[1;33m[\u001b[0m\u001b[1;33m[\u001b[0m\u001b[0mp\u001b[0m\u001b[1;33m+\u001b[0m\u001b[0mv\u001b[0m \u001b[1;32mfor\u001b[0m \u001b[0mp\u001b[0m \u001b[1;32min\u001b[0m \u001b[0mpatterns\u001b[0m\u001b[1;33m[\u001b[0m\u001b[0mi\u001b[0m\u001b[1;33m]\u001b[0m\u001b[1;33m]\u001b[0m \u001b[1;32mfor\u001b[0m \u001b[0mi\u001b[0m\u001b[1;33m,\u001b[0m\u001b[0mv\u001b[0m \u001b[1;32min\u001b[0m \u001b[0menumerate\u001b[0m\u001b[1;33m(\u001b[0m\u001b[0mvectors\u001b[0m\u001b[1;33m)\u001b[0m\u001b[1;33m]\u001b[0m\u001b[1;33m\u001b[0m\u001b[1;33m\u001b[0m\u001b[0m\n\u001b[0m\u001b[0;32m     48\u001b[0m \u001b[1;33m\u001b[0m\u001b[0m\n\u001b[0;32m     49\u001b[0m     \u001b[1;31m# result = to_json(points,patterns,vectors,occurrences)\u001b[0m\u001b[1;33m\u001b[0m\u001b[1;33m\u001b[0m\u001b[1;33m\u001b[0m\u001b[0m\n",
      "\u001b[1;32m<ipython-input-287-c4a0d57471c6>\u001b[0m in \u001b[0;36m<listcomp>\u001b[1;34m(.0)\u001b[0m\n\u001b[0;32m     45\u001b[0m \u001b[1;33m\u001b[0m\u001b[0m\n\u001b[0;32m     46\u001b[0m     \u001b[1;31m# print(occurrences)\u001b[0m\u001b[1;33m\u001b[0m\u001b[1;33m\u001b[0m\u001b[1;33m\u001b[0m\u001b[0m\n\u001b[1;32m---> 47\u001b[1;33m     \u001b[0moccurrences\u001b[0m \u001b[1;33m=\u001b[0m \u001b[1;33m[\u001b[0m\u001b[1;33m[\u001b[0m\u001b[0mp\u001b[0m\u001b[1;33m+\u001b[0m\u001b[0mv\u001b[0m \u001b[1;32mfor\u001b[0m \u001b[0mp\u001b[0m \u001b[1;32min\u001b[0m \u001b[0mpatterns\u001b[0m\u001b[1;33m[\u001b[0m\u001b[0mi\u001b[0m\u001b[1;33m]\u001b[0m\u001b[1;33m]\u001b[0m \u001b[1;32mfor\u001b[0m \u001b[0mi\u001b[0m\u001b[1;33m,\u001b[0m\u001b[0mv\u001b[0m \u001b[1;32min\u001b[0m \u001b[0menumerate\u001b[0m\u001b[1;33m(\u001b[0m\u001b[0mvectors\u001b[0m\u001b[1;33m)\u001b[0m\u001b[1;33m]\u001b[0m\u001b[1;33m\u001b[0m\u001b[1;33m\u001b[0m\u001b[0m\n\u001b[0m\u001b[0;32m     48\u001b[0m \u001b[1;33m\u001b[0m\u001b[0m\n\u001b[0;32m     49\u001b[0m     \u001b[1;31m# result = to_json(points,patterns,vectors,occurrences)\u001b[0m\u001b[1;33m\u001b[0m\u001b[1;33m\u001b[0m\u001b[1;33m\u001b[0m\u001b[0m\n",
      "\u001b[1;31mTypeError\u001b[0m: 'dict_values' object does not support indexing"
     ]
    }
   ],
   "source": [
    "if __name__ == \"__main__\":\n",
    "    print(\"table:\")\n",
    "    music_path = '../dataset/梁祝.mid'\n",
    "    midiarray = melody_to_numpy(music_path)\n",
    "    \n",
    "    # midi_batch = []\n",
    "    # for i in midiarray:\n",
    "    #     num = 0\n",
    "    #     for j in i:\n",
    "    #         if j == 1:\n",
    "    #             midi_batch.append(num)\n",
    "    #             num = 0\n",
    "    #             break\n",
    "    #         num += 1\n",
    "    \n",
    "    # numpy_to_midi(midiarray)\n",
    "    # print(midiarray)\n",
    "    points = np.unique(midiarray,axis = 0)\n",
    "    # print(points)\n",
    "    vector_table = [[(q - p, p) for q in points] for p in points]\n",
    "    # print(vector_table)\n",
    "    half_table = [r[i+1:] for i,r in enumerate(vector_table) if i < len(r) - 1]\n",
    "    # print(half_table)\n",
    "    print(\"merge:\")\n",
    "    table_list = reduce(merge_sorted_arrays, half_table)\n",
    "    # print(table_list)\n",
    "    print(\"group:\")\n",
    "    patterns = group_by_first(table_list).values()\n",
    "    # print(patterns)\n",
    "    pdict = {str(p): i for i,p in enumerate(points)}\n",
    "    # print(pdict)\n",
    "    simple_table = [[r[0] for r in c] for c in vector_table]\n",
    "    # print(simple_table)\n",
    "    tsls = [[simple_table[pdict[str(o)]] for o in p] for p in patterns]\n",
    "    # print(tsls)\n",
    "    print(\"intersect:\")\n",
    "    vectors = [reduce(intersect_sorted_arrays, ts) for ts in tsls]\n",
    "    # print(vectors)\n",
    "    print(\"json:\")\n",
    "    # for i,v in enumerate(vectors):\n",
    "    #     print(len(v))\n",
    "    #     for p in patterns:\n",
    "    #         print(len(p))\n",
    "    #         occurrences = [p+v]\n",
    "\n",
    "    # print(occurrences)\n",
    "    occurrences = [[p+v for p in patterns[i]] for i,v in enumerate(vectors)]\n",
    "\n",
    "    # result = to_json(points,patterns,vectors,occurrences)\n",
    "    # print(result)    \n",
    "    result = to_json(points,patterns,vectors,occurrences)\n",
    "    print(\"save:\")\n",
    "    with open(\"test.json\",\"w\") as outfile:\n",
    "        json.dump(result,outfile)"
   ]
  },
  {
   "cell_type": "code",
   "execution_count": null,
   "metadata": {},
   "outputs": [],
   "source": []
  }
 ],
 "metadata": {
  "interpreter": {
   "hash": "e23994e846f66e74e737ab5cf4d4d5879b586e9c98f1a622dbc49488eef84217"
  },
  "kernelspec": {
   "display_name": "Python 3.6.13 64-bit ('MusicGenPytorch': conda)",
   "language": "python",
   "name": "python3"
  },
  "language_info": {
   "codemirror_mode": {
    "name": "ipython",
    "version": 3
   },
   "file_extension": ".py",
   "mimetype": "text/x-python",
   "name": "python",
   "nbconvert_exporter": "python",
   "pygments_lexer": "ipython3",
   "version": "3.6.13"
  },
  "orig_nbformat": 4
 },
 "nbformat": 4,
 "nbformat_minor": 2
}
