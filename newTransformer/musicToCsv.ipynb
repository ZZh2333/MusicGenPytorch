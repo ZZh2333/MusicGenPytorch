{
 "cells": [
  {
   "cell_type": "code",
   "execution_count": 9,
   "metadata": {},
   "outputs": [],
   "source": [
    "import pretty_midi\n",
    "import torch\n",
    "import os\n",
    "import pandas as pd\n",
    "\n",
    "def melody_to_numpy(fpath, unit_time=0.125):\n",
    "    # 首先取出midi中的音乐信息，将第一个音轨提出来，然后取所有音符元素。\n",
    "    music = pretty_midi.PrettyMIDI(fpath)\n",
    "    notes = music.instruments[0].notes\n",
    "\n",
    "    # 纪录一个时间戳 t和保存向量的列表 roll。\n",
    "    t = 0.\n",
    "    roll = list()\n",
    "    # print(notes[0], notes[-1])\n",
    "\n",
    "    # 在 Notes里遍历，找出所有音符的音高和长度，同时不放过休止符。\n",
    "    for note in notes:\n",
    "        # print(t, note)\n",
    "\n",
    "        # 两个相邻的音符不是无缝连接，说明休止符存在。计算其相对于最小分辨率 unit_time的相对时长 T，建立一个(T, 130)的矩阵，将第129维置1.\n",
    "        elapsed_time = note.start - t\n",
    "        if elapsed_time > 0.:\n",
    "            steps = torch.zeros((int(round(elapsed_time / unit_time)), 130))\n",
    "            steps[range(int(round(elapsed_time / unit_time))), 129] += 1.\n",
    "            roll.append(steps)\n",
    "\n",
    "        # 如果是无缝连接，那么检查当前音符：\n",
    "        n_units = int(round((note.end - note.start) / unit_time))\n",
    "        steps = torch.zeros((n_units, 130))\n",
    "        steps[0, note.pitch] += 1\n",
    "        steps[range(1, n_units), 128] += 1\n",
    "\n",
    "        # 其中除第一列记录pitch外，其他列都记录sustain的128.最后合成为一个矩阵：\n",
    "        roll.append(steps)\n",
    "        t = note.end\n",
    "    return torch.cat(roll, 0)\n",
    "\n",
    "\n",
    "def array_to_single(array):\n",
    "    midi_batch = []\n",
    "    for i in array:\n",
    "        num = 0\n",
    "        for j in i:\n",
    "            if j == 1:\n",
    "                midi_batch.append(num)\n",
    "                num = 0\n",
    "                break\n",
    "            num += 1\n",
    "    return midi_batch\n",
    "\n",
    "\n",
    "# 计算音高范围\n",
    "def computeHighLow(list):\n",
    "    min = list[0]\n",
    "    max = list[0]\n",
    "    for i in list:\n",
    "        if(i>max):\n",
    "            max = i\n",
    "        if(i<min):\n",
    "            min = i\n",
    "    return max-min\n",
    "\n",
    "# 计算变化频率\n",
    "def computeFrequence(list):\n",
    "    cnt = 0\n",
    "    for i,m in enumerate(list):\n",
    "        if(i!=0 and i!= 128 and m!=list[i-1]):\n",
    "            cnt += 1\n",
    "    return cnt\n",
    "\n",
    "# 计算平均音高\n",
    "def computeMidMidi(list):\n",
    "    sum = 0\n",
    "    for i in list:\n",
    "        sum += i\n",
    "    return sum/len(list)\n",
    "\n",
    "\n",
    "def getMusicData():\n",
    "    # musicPath = \"./output_MTD_min_data/MTD6657_Prokofiev_Op064-10.mid\"\n",
    "    # midiarray = melody_to_numpy(musicPath)\n",
    "    # midi_batch = array_to_single(midiarray)\n",
    "    # print(midi_batch)\n",
    "\n",
    "    musicData = []\n",
    "    musicFeatures = []\n",
    "    # 填充字符\n",
    "    padding = 0\n",
    "    # print(\"helloworld\")\n",
    "    # baseDir = os.path.dirname(os.path.abspath(__name__))\n",
    "    # musicDataPath = str(baseDir+'/mainTransformerTest/output_MTD_min_data')\n",
    "    # print(musicDataPath)\n",
    "    for filepath,dirnames,filenames in os.walk(r'E:\\Anaconda\\project\\envs\\MusicGenPytorch\\mainTransformerTest\\output_MTD_min_data'):\n",
    "        print(\"开始处理音频数据\")\n",
    "        for filename in filenames:\n",
    "            try:\n",
    "                # print(os.path.join(filepath,filename))\n",
    "                musicpath = os.path.join(filepath,filename)\n",
    "                midiarray = melody_to_numpy(musicpath)\n",
    "                midi_batch = array_to_single(midiarray)\n",
    "                # print(midi_batch[0])\n",
    "                if(len(midi_batch)<=64):\n",
    "                    firstmidi = midi_batch[0]\n",
    "                    lenmidi = len(midi_batch)\n",
    "                    high_lowmidi = computeHighLow(midi_batch)\n",
    "                    midiFrequence = computeFrequence(midi_batch)\n",
    "                    midmidi = computeMidMidi(midi_batch)\n",
    "                    midi_batch += [padding] * (64 - len(midi_batch))\n",
    "                    musicData.append(midi_batch)\n",
    "                    musicFeatures.append([firstmidi,lenmidi,high_lowmidi,midiFrequence,midmidi])\n",
    "            except Exception as e:\n",
    "                # print(e)\n",
    "                continue\n",
    "    # print(\"包含\"+str(len(musicData))+\"条音频数据\")\n",
    "    # print(\"cnt:\"+str(cnt))\n",
    "    return musicFeatures, musicData"
   ]
  },
  {
   "cell_type": "code",
   "execution_count": 10,
   "metadata": {},
   "outputs": [
    {
     "name": "stdout",
     "output_type": "stream",
     "text": [
      "开始处理音频数据\n"
     ]
    }
   ],
   "source": [
    "musicFeatures, musicData = getMusicData()"
   ]
  },
  {
   "cell_type": "code",
   "execution_count": 11,
   "metadata": {},
   "outputs": [],
   "source": [
    "df = pd.DataFrame(musicFeatures)"
   ]
  },
  {
   "cell_type": "code",
   "execution_count": 12,
   "metadata": {},
   "outputs": [
    {
     "data": {
      "text/html": [
       "<div>\n",
       "<style scoped>\n",
       "    .dataframe tbody tr th:only-of-type {\n",
       "        vertical-align: middle;\n",
       "    }\n",
       "\n",
       "    .dataframe tbody tr th {\n",
       "        vertical-align: top;\n",
       "    }\n",
       "\n",
       "    .dataframe thead th {\n",
       "        text-align: right;\n",
       "    }\n",
       "</style>\n",
       "<table border=\"1\" class=\"dataframe\">\n",
       "  <thead>\n",
       "    <tr style=\"text-align: right;\">\n",
       "      <th></th>\n",
       "    </tr>\n",
       "  </thead>\n",
       "  <tbody>\n",
       "  </tbody>\n",
       "</table>\n",
       "</div>"
      ],
      "text/plain": [
       "Empty DataFrame\n",
       "Columns: []\n",
       "Index: []"
      ]
     },
     "execution_count": 12,
     "metadata": {},
     "output_type": "execute_result"
    }
   ],
   "source": [
    "df"
   ]
  },
  {
   "cell_type": "code",
   "execution_count": 13,
   "metadata": {},
   "outputs": [
    {
     "data": {
      "text/plain": [
       "False"
      ]
     },
     "execution_count": 13,
     "metadata": {},
     "output_type": "execute_result"
    }
   ],
   "source": [
    "list = [1,2,3,4,5,5,4,3,2,1]\n",
    "list1 = list == [\"5\"]\n",
    "list1"
   ]
  }
 ],
 "metadata": {
  "interpreter": {
   "hash": "e23994e846f66e74e737ab5cf4d4d5879b586e9c98f1a622dbc49488eef84217"
  },
  "kernelspec": {
   "display_name": "Python 3.6.13 64-bit ('MusicGenPytorch': conda)",
   "language": "python",
   "name": "python3"
  },
  "language_info": {
   "codemirror_mode": {
    "name": "ipython",
    "version": 3
   },
   "file_extension": ".py",
   "mimetype": "text/x-python",
   "name": "python",
   "nbconvert_exporter": "python",
   "pygments_lexer": "ipython3",
   "version": "3.6.13"
  },
  "orig_nbformat": 4
 },
 "nbformat": 4,
 "nbformat_minor": 2
}
