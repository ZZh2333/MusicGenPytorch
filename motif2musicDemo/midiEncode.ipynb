{
 "cells": [
  {
   "cell_type": "code",
   "execution_count": 11,
   "metadata": {},
   "outputs": [],
   "source": [
    "import pretty_midi\n",
    "import torch\n",
    "\n",
    "\n",
    "def melody_to_numpy(fpath=\"ashover12.mid\", unit_time=0.125):\n",
    "    # 首先取出midi中的音乐信息，将第一个音轨提出来，然后取所有音符元素。\n",
    "    music = pretty_midi.PrettyMIDI(fpath)\n",
    "    notes = music.instruments[0].notes\n",
    "\n",
    "    # 纪录一个时间戳 t和保存向量的列表 roll。\n",
    "    t = 0.\n",
    "    roll = list()\n",
    "    # print(notes[0], notes[-1])\n",
    "\n",
    "    # 在 Notes里遍历，找出所有音符的音高和长度，同时不放过休止符。\n",
    "    for note in notes:\n",
    "        # print(t, note)\n",
    "\n",
    "        # 两个相邻的音符不是无缝连接，说明休止符存在。计算其相对于最小分辨率 unit_time的相对时长 T，建立一个(T, 130)的矩阵，将第129维置1.\n",
    "        elapsed_time = note.start - t\n",
    "        if elapsed_time > 0.:\n",
    "            steps = torch.zeros((int(round(elapsed_time / unit_time)), 130))\n",
    "            steps[range(int(round(elapsed_time / unit_time))), 129] += 1.\n",
    "            roll.append(steps)\n",
    "\n",
    "        # 如果是无缝连接，那么检查当前音符：\n",
    "        n_units = int(round((note.end - note.start) / unit_time))\n",
    "        steps = torch.zeros((n_units, 130))\n",
    "        steps[0, note.pitch] += 1\n",
    "        steps[range(1, n_units), 128] += 1\n",
    "\n",
    "        # 其中除第一列记录pitch外，其他列都记录sustain的128.最后合成为一个矩阵：\n",
    "        roll.append(steps)\n",
    "        t = note.end\n",
    "    return torch.cat(roll, 0)"
   ]
  },
  {
   "cell_type": "code",
   "execution_count": 12,
   "metadata": {},
   "outputs": [],
   "source": [
    "import numpy as np\n",
    "\n",
    "def numpy_to_midi(sample_roll, output='sample1.mid'):\n",
    "    music = pretty_midi.PrettyMIDI()\n",
    "    piano_program = pretty_midi.instrument_name_to_program(\n",
    "        'Acoustic Grand Piano')\n",
    "    piano = pretty_midi.Instrument(program=piano_program)\n",
    "    t = 0\n",
    "    for i in sample_roll:\n",
    "        if 'torch' in str(type(i)):\n",
    "            pitch = int(i.max(0)[1])\n",
    "        else:\n",
    "            pitch = int(np.argmax(i))\n",
    "        if pitch < 128:\n",
    "            note = pretty_midi.Note(\n",
    "                velocity=100, pitch=pitch, start=t, end=t + 1 / 8)\n",
    "            t += 1 / 8\n",
    "            piano.notes.append(note)\n",
    "        elif pitch == 128:\n",
    "            if len(piano.notes) > 0:\n",
    "                note = piano.notes.pop()\n",
    "            else:\n",
    "                p = np.random.randint(60, 72)\n",
    "                note = pretty_midi.Note(\n",
    "                    velocity=100, pitch=int(p), start=0, end=t)\n",
    "            note = pretty_midi.Note(\n",
    "                velocity=100,\n",
    "                pitch=note.pitch,\n",
    "                start=note.start,\n",
    "                end=note.end + 1 / 8)\n",
    "            piano.notes.append(note)\n",
    "            t += 1 / 8\n",
    "        elif pitch == 129:\n",
    "            t += 1 / 8\n",
    "    music.instruments.append(piano)\n",
    "    music.write(output)\n",
    "\n",
    "# if __name__ == '__main__':\n",
    "#     numpy_to_midi(a)"
   ]
  },
  {
   "cell_type": "code",
   "execution_count": 13,
   "metadata": {},
   "outputs": [],
   "source": [
    "def array_to_single(array):\n",
    "    midi_batch = []\n",
    "    for i in array:\n",
    "        num = 0\n",
    "        for j in i:\n",
    "            if j == 1:\n",
    "                midi_batch.append(num)\n",
    "                num = 0\n",
    "                break\n",
    "            num += 1\n",
    "    return midi_batch"
   ]
  },
  {
   "cell_type": "code",
   "execution_count": 14,
   "metadata": {},
   "outputs": [],
   "source": [
    "# music_path = '.\\output_EMOPIA\\Q1__kJtgm1OUNA_0.mid'\n",
    "# test = melody_to_numpy(music_path)\n",
    "# # test = array_to_single(test)\n",
    "# out_path = './testMidiEncode\\sample.mid'\n",
    "# numpy_to_midi(test,out_path)"
   ]
  },
  {
   "cell_type": "code",
   "execution_count": 15,
   "metadata": {},
   "outputs": [
    {
     "name": "stdout",
     "output_type": "stream",
     "text": [
      "开始编码音频\n",
      "ashover33.mid:index 0 is out of bounds for dimension 0 with size 0\n",
      "jigs107.mid:index 0 is out of bounds for dimension 0 with size 0\n",
      "jigs151.mid:index 0 is out of bounds for dimension 0 with size 0\n",
      "jigs153.mid:index 0 is out of bounds for dimension 0 with size 0\n",
      "jigs168.mid:index 0 is out of bounds for dimension 0 with size 0\n",
      "jigs22.mid:index 0 is out of bounds for dimension 0 with size 0\n",
      "jigs227.mid:index 0 is out of bounds for dimension 0 with size 0\n",
      "jigs242.mid:index 0 is out of bounds for dimension 0 with size 0\n",
      "jigs255.mid:index 0 is out of bounds for dimension 0 with size 0\n",
      "jigs285.mid:index 0 is out of bounds for dimension 0 with size 0\n",
      "jigs287.mid:index 0 is out of bounds for dimension 0 with size 0\n",
      "jigs311.mid:index 0 is out of bounds for dimension 0 with size 0\n",
      "jigs328.mid:index 0 is out of bounds for dimension 0 with size 0\n",
      "jigs332.mid:index 0 is out of bounds for dimension 0 with size 0\n",
      "jigs52.mid:index 0 is out of bounds for dimension 0 with size 0\n",
      "morris10.mid:index 0 is out of bounds for dimension 0 with size 0\n",
      "morris15.mid:index 0 is out of bounds for dimension 0 with size 0\n",
      "reelsa-c29.mid:index 0 is out of bounds for dimension 0 with size 0\n",
      "slip5.mid:index 0 is out of bounds for dimension 0 with size 0\n"
     ]
    }
   ],
   "source": [
    "import os\n",
    "import pandas as pd\n",
    "\n",
    "musicData = []\n",
    "midiInfo = []\n",
    "for filepath,dirname,filenames in os.walk(r'E:/Anaconda/project/envs/MusicGenPytorch/motif2MusicDemo/output_melody'):\n",
    "    print(\"开始编码音频\")\n",
    "    for filename in filenames:\n",
    "        try:\n",
    "            musicpath = os.path.join(filepath,filename)\n",
    "            midiarray = melody_to_numpy(musicpath)\n",
    "            midi_batch = array_to_single(midiarray)\n",
    "            lenmidi = len(midi_batch)\n",
    "            midiInfo.append([lenmidi,filename])\n",
    "        except Exception as e:\n",
    "            print(filename+\":\"+str(e))\n",
    "            # e\n",
    "\n",
    "df = pd.DataFrame(midiInfo)\n",
    "df.to_csv(\"./musicInfo.csv\",index=None)"
   ]
  }
 ],
 "metadata": {
  "interpreter": {
   "hash": "e23994e846f66e74e737ab5cf4d4d5879b586e9c98f1a622dbc49488eef84217"
  },
  "kernelspec": {
   "display_name": "Python 3.6.13 64-bit ('MusicGenPytorch': conda)",
   "language": "python",
   "name": "python3"
  },
  "language_info": {
   "codemirror_mode": {
    "name": "ipython",
    "version": 3
   },
   "file_extension": ".py",
   "mimetype": "text/x-python",
   "name": "python",
   "nbconvert_exporter": "python",
   "pygments_lexer": "ipython3",
   "version": "3.6.13"
  },
  "orig_nbformat": 4
 },
 "nbformat": 4,
 "nbformat_minor": 2
}
