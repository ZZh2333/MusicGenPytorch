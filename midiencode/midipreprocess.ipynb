{
 "cells": [
  {
   "cell_type": "markdown",
   "metadata": {},
   "source": [
    "# 将midi旋律转化为numpy矩阵\n",
    "将音符序列映射到一个130维的one-hot向量序列中，一个音符/休止符/持续对应一个向量(MIDI能表示的音高从0-127，一共128种。加上rest和sustain，共130种表示)；  \n",
    "而对于chord，将12个大调，12个小调单独表示，其余和弦归为第25类。  \n",
    "![20220512194700](https://raw.githubusercontent.com/ZZh2333/picgoResource/main/img/20220512194700.png)"
   ]
  },
  {
   "cell_type": "code",
   "execution_count": 5,
   "metadata": {},
   "outputs": [
    {
     "name": "stdout",
     "output_type": "stream",
     "text": [
      "torch.Size([32, 130])\n",
      "tensor([[0., 0., 0.,  ..., 0., 0., 0.],\n",
      "        [0., 0., 0.,  ..., 0., 1., 0.],\n",
      "        [0., 0., 0.,  ..., 0., 1., 0.],\n",
      "        ...,\n",
      "        [0., 0., 0.,  ..., 0., 1., 0.],\n",
      "        [0., 0., 0.,  ..., 0., 0., 0.],\n",
      "        [0., 0., 0.,  ..., 0., 1., 0.]])\n"
     ]
    },
    {
     "name": "stderr",
     "output_type": "stream",
     "text": [
      "E:\\Anaconda\\acaconda\\envs\\MusicGenPytorch\\lib\\site-packages\\pretty_midi\\pretty_midi.py:101: RuntimeWarning: Tempo, Key or Time signature change events found on non-zero tracks.  This is not a valid type 0 or type 1 MIDI file.  Tempo, Key or Time Signature may be wrong.\n",
      "  RuntimeWarning)\n"
     ]
    }
   ],
   "source": [
    "import pretty_midi\n",
    "import torch\n",
    "\n",
    "\n",
    "def melody_to_numpy(fpath=\"ashover12.mid\", unit_time=0.125):\n",
    "    # 首先取出midi中的音乐信息，将第一个音轨提出来，然后取所有音符元素。\n",
    "    music = pretty_midi.PrettyMIDI(fpath)\n",
    "    notes = music.instruments[0].notes\n",
    "\n",
    "    # 纪录一个时间戳 t和保存向量的列表 roll。\n",
    "    t = 0.\n",
    "    roll = list()\n",
    "    # print(notes[0], notes[-1])\n",
    "\n",
    "    # 在 Notes里遍历，找出所有音符的音高和长度，同时不放过休止符。\n",
    "    for note in notes:\n",
    "        # print(t, note)\n",
    "\n",
    "        # 两个相邻的音符不是无缝连接，说明休止符存在。计算其相对于最小分辨率 unit_time的相对时长 T，建立一个(T, 130)的矩阵，将第129维置1.\n",
    "        elapsed_time = note.start - t\n",
    "        if elapsed_time > 0.:\n",
    "            steps = torch.zeros((int(round(elapsed_time / unit_time)), 130))\n",
    "            steps[range(int(round(elapsed_time / unit_time))), 129] += 1.\n",
    "            roll.append(steps)\n",
    "\n",
    "        # 如果是无缝连接，那么检查当前音符：\n",
    "        n_units = int(round((note.end - note.start) / unit_time))\n",
    "        steps = torch.zeros((n_units, 130))\n",
    "        steps[0, note.pitch] += 1\n",
    "        steps[range(1, n_units), 128] += 1\n",
    "\n",
    "        # 其中除第一列记录pitch外，其他列都记录sustain的128.最后合成为一个矩阵：\n",
    "        roll.append(steps)\n",
    "        t = note.end\n",
    "    return torch.cat(roll, 0)\n",
    "\n",
    "if __name__ == '__main__':\n",
    "    a = melody_to_numpy('testMusic.mid')\n",
    "    print(a.size())\n",
    "    print(a)"
   ]
  },
  {
   "cell_type": "markdown",
   "metadata": {},
   "source": [
    "# 将和弦转化为chroma"
   ]
  },
  {
   "cell_type": "code",
   "execution_count": 6,
   "metadata": {},
   "outputs": [
    {
     "name": "stdout",
     "output_type": "stream",
     "text": [
      "torch.Size([32, 12])\n"
     ]
    }
   ],
   "source": [
    "def chord_to_numpy(fpath='12.mid', unit_time=0.125):\n",
    "    music = pretty_midi.PrettyMIDI(fpath)\n",
    "    notes = music.instruments[0].notes\n",
    "    max_end = 0.\n",
    "    for note in notes:\n",
    "        if note.end > max_end:\n",
    "            max_end = note.end\n",
    "    chroma = torch.zeros((int(round(max_end / unit_time)), 12))\n",
    "    for note in notes:\n",
    "        idx = int(round((note.start / unit_time)))\n",
    "        n_unit = int(round((note.end - note.start) / unit_time))\n",
    "        chroma[idx:idx + n_unit, note.pitch % 12] += 1\n",
    "    return chroma\n",
    "\n",
    "if __name__ == '__main__':\n",
    "    b = chord_to_numpy('testMusic.mid')\n",
    "    print(b.size())"
   ]
  },
  {
   "cell_type": "markdown",
   "metadata": {},
   "source": [
    "# 将numpy矩阵编为midi文件"
   ]
  },
  {
   "cell_type": "code",
   "execution_count": 7,
   "metadata": {},
   "outputs": [],
   "source": [
    "import numpy as np\n",
    "\n",
    "def numpy_to_midi(sample_roll, output='sample.mid'):\n",
    "    music = pretty_midi.PrettyMIDI()\n",
    "    piano_program = pretty_midi.instrument_name_to_program(\n",
    "        'Acoustic Grand Piano')\n",
    "    piano = pretty_midi.Instrument(program=piano_program)\n",
    "    t = 0\n",
    "    for i in sample_roll:\n",
    "        if 'torch' in str(type(i)):\n",
    "            pitch = int(i.max(0)[1])\n",
    "        else:\n",
    "            pitch = int(np.argmax(i))\n",
    "        if pitch < 128:\n",
    "            note = pretty_midi.Note(\n",
    "                velocity=100, pitch=pitch, start=t, end=t + 1 / 8)\n",
    "            t += 1 / 8\n",
    "            piano.notes.append(note)\n",
    "        elif pitch == 128:\n",
    "            if len(piano.notes) > 0:\n",
    "                note = piano.notes.pop()\n",
    "            else:\n",
    "                p = np.random.randint(60, 72)\n",
    "                note = pretty_midi.Note(\n",
    "                    velocity=100, pitch=int(p), start=0, end=t)\n",
    "            note = pretty_midi.Note(\n",
    "                velocity=100,\n",
    "                pitch=note.pitch,\n",
    "                start=note.start,\n",
    "                end=note.end + 1 / 8)\n",
    "            piano.notes.append(note)\n",
    "            t += 1 / 8\n",
    "        elif pitch == 129:\n",
    "            t += 1 / 8\n",
    "    music.instruments.append(piano)\n",
    "    music.write(output)\n",
    "\n",
    "if __name__ == '__main__':\n",
    "    numpy_to_midi(a)"
   ]
  },
  {
   "cell_type": "code",
   "execution_count": 8,
   "metadata": {},
   "outputs": [
    {
     "data": {
      "text/plain": [
       "array([[0., 0., 0., ..., 0., 0., 0.],\n",
       "       [0., 0., 0., ..., 0., 0., 0.],\n",
       "       [0., 0., 0., ..., 0., 0., 0.],\n",
       "       ...,\n",
       "       [0., 0., 0., ..., 0., 0., 0.],\n",
       "       [0., 0., 0., ..., 0., 0., 0.],\n",
       "       [0., 0., 0., ..., 0., 0., 0.]], dtype=float32)"
      ]
     },
     "execution_count": 8,
     "metadata": {},
     "output_type": "execute_result"
    }
   ],
   "source": [
    "n = np.hstack((a,b))\n",
    "n"
   ]
  },
  {
   "cell_type": "code",
   "execution_count": null,
   "metadata": {},
   "outputs": [],
   "source": []
  }
 ],
 "metadata": {
  "interpreter": {
   "hash": "e23994e846f66e74e737ab5cf4d4d5879b586e9c98f1a622dbc49488eef84217"
  },
  "kernelspec": {
   "display_name": "Python 3.6.13 64-bit ('MusicGenPytorch': conda)",
   "language": "python",
   "name": "python3"
  },
  "language_info": {
   "codemirror_mode": {
    "name": "ipython",
    "version": 3
   },
   "file_extension": ".py",
   "mimetype": "text/x-python",
   "name": "python",
   "nbconvert_exporter": "python",
   "pygments_lexer": "ipython3",
   "version": "3.6.13"
  },
  "orig_nbformat": 4
 },
 "nbformat": 4,
 "nbformat_minor": 2
}
